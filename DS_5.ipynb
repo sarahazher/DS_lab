{
 "cells": [
  {
   "cell_type": "code",
   "execution_count": 3,
   "id": "a01f7024-0434-463e-8e12-47526642557a",
   "metadata": {},
   "outputs": [],
   "source": [
    "import pandas as pd"
   ]
  },
  {
   "cell_type": "code",
   "execution_count": 4,
   "id": "5bc49c13-2d79-418d-9c3a-446a7d875536",
   "metadata": {},
   "outputs": [],
   "source": [
    "df = pd.read_csv('/home/upsidedown/Desktop/DS/5_logistic_regression/Social_Network_Ads.csv')"
   ]
  },
  {
   "cell_type": "code",
   "execution_count": 5,
   "id": "ae9832f3-ccc4-4d7e-8ded-848ca875c697",
   "metadata": {},
   "outputs": [
    {
     "data": {
      "text/html": [
       "<div>\n",
       "<style scoped>\n",
       "    .dataframe tbody tr th:only-of-type {\n",
       "        vertical-align: middle;\n",
       "    }\n",
       "\n",
       "    .dataframe tbody tr th {\n",
       "        vertical-align: top;\n",
       "    }\n",
       "\n",
       "    .dataframe thead th {\n",
       "        text-align: right;\n",
       "    }\n",
       "</style>\n",
       "<table border=\"1\" class=\"dataframe\">\n",
       "  <thead>\n",
       "    <tr style=\"text-align: right;\">\n",
       "      <th></th>\n",
       "      <th>User ID</th>\n",
       "      <th>Gender</th>\n",
       "      <th>Age</th>\n",
       "      <th>EstimatedSalary</th>\n",
       "      <th>Purchased</th>\n",
       "    </tr>\n",
       "  </thead>\n",
       "  <tbody>\n",
       "    <tr>\n",
       "      <th>0</th>\n",
       "      <td>15624510</td>\n",
       "      <td>Male</td>\n",
       "      <td>19</td>\n",
       "      <td>19000</td>\n",
       "      <td>0</td>\n",
       "    </tr>\n",
       "    <tr>\n",
       "      <th>1</th>\n",
       "      <td>15810944</td>\n",
       "      <td>Male</td>\n",
       "      <td>35</td>\n",
       "      <td>20000</td>\n",
       "      <td>0</td>\n",
       "    </tr>\n",
       "    <tr>\n",
       "      <th>2</th>\n",
       "      <td>15668575</td>\n",
       "      <td>Female</td>\n",
       "      <td>26</td>\n",
       "      <td>43000</td>\n",
       "      <td>0</td>\n",
       "    </tr>\n",
       "    <tr>\n",
       "      <th>3</th>\n",
       "      <td>15603246</td>\n",
       "      <td>Female</td>\n",
       "      <td>27</td>\n",
       "      <td>57000</td>\n",
       "      <td>0</td>\n",
       "    </tr>\n",
       "    <tr>\n",
       "      <th>4</th>\n",
       "      <td>15804002</td>\n",
       "      <td>Male</td>\n",
       "      <td>19</td>\n",
       "      <td>76000</td>\n",
       "      <td>0</td>\n",
       "    </tr>\n",
       "    <tr>\n",
       "      <th>...</th>\n",
       "      <td>...</td>\n",
       "      <td>...</td>\n",
       "      <td>...</td>\n",
       "      <td>...</td>\n",
       "      <td>...</td>\n",
       "    </tr>\n",
       "    <tr>\n",
       "      <th>395</th>\n",
       "      <td>15691863</td>\n",
       "      <td>Female</td>\n",
       "      <td>46</td>\n",
       "      <td>41000</td>\n",
       "      <td>1</td>\n",
       "    </tr>\n",
       "    <tr>\n",
       "      <th>396</th>\n",
       "      <td>15706071</td>\n",
       "      <td>Male</td>\n",
       "      <td>51</td>\n",
       "      <td>23000</td>\n",
       "      <td>1</td>\n",
       "    </tr>\n",
       "    <tr>\n",
       "      <th>397</th>\n",
       "      <td>15654296</td>\n",
       "      <td>Female</td>\n",
       "      <td>50</td>\n",
       "      <td>20000</td>\n",
       "      <td>1</td>\n",
       "    </tr>\n",
       "    <tr>\n",
       "      <th>398</th>\n",
       "      <td>15755018</td>\n",
       "      <td>Male</td>\n",
       "      <td>36</td>\n",
       "      <td>33000</td>\n",
       "      <td>0</td>\n",
       "    </tr>\n",
       "    <tr>\n",
       "      <th>399</th>\n",
       "      <td>15594041</td>\n",
       "      <td>Female</td>\n",
       "      <td>49</td>\n",
       "      <td>36000</td>\n",
       "      <td>1</td>\n",
       "    </tr>\n",
       "  </tbody>\n",
       "</table>\n",
       "<p>400 rows × 5 columns</p>\n",
       "</div>"
      ],
      "text/plain": [
       "      User ID  Gender  Age  EstimatedSalary  Purchased\n",
       "0    15624510    Male   19            19000          0\n",
       "1    15810944    Male   35            20000          0\n",
       "2    15668575  Female   26            43000          0\n",
       "3    15603246  Female   27            57000          0\n",
       "4    15804002    Male   19            76000          0\n",
       "..        ...     ...  ...              ...        ...\n",
       "395  15691863  Female   46            41000          1\n",
       "396  15706071    Male   51            23000          1\n",
       "397  15654296  Female   50            20000          1\n",
       "398  15755018    Male   36            33000          0\n",
       "399  15594041  Female   49            36000          1\n",
       "\n",
       "[400 rows x 5 columns]"
      ]
     },
     "execution_count": 5,
     "metadata": {},
     "output_type": "execute_result"
    }
   ],
   "source": [
    "df"
   ]
  },
  {
   "cell_type": "code",
   "execution_count": 6,
   "id": "2070f95a-0076-4427-8fae-881829ab1a48",
   "metadata": {},
   "outputs": [],
   "source": [
    "df = df.drop(columns = \"User ID\")"
   ]
  },
  {
   "cell_type": "code",
   "execution_count": 7,
   "id": "eab170a5-8dcc-498c-9262-8928fdcd9012",
   "metadata": {},
   "outputs": [
    {
     "data": {
      "text/html": [
       "<div>\n",
       "<style scoped>\n",
       "    .dataframe tbody tr th:only-of-type {\n",
       "        vertical-align: middle;\n",
       "    }\n",
       "\n",
       "    .dataframe tbody tr th {\n",
       "        vertical-align: top;\n",
       "    }\n",
       "\n",
       "    .dataframe thead th {\n",
       "        text-align: right;\n",
       "    }\n",
       "</style>\n",
       "<table border=\"1\" class=\"dataframe\">\n",
       "  <thead>\n",
       "    <tr style=\"text-align: right;\">\n",
       "      <th></th>\n",
       "      <th>Gender</th>\n",
       "      <th>Age</th>\n",
       "      <th>EstimatedSalary</th>\n",
       "      <th>Purchased</th>\n",
       "    </tr>\n",
       "  </thead>\n",
       "  <tbody>\n",
       "    <tr>\n",
       "      <th>0</th>\n",
       "      <td>Male</td>\n",
       "      <td>19</td>\n",
       "      <td>19000</td>\n",
       "      <td>0</td>\n",
       "    </tr>\n",
       "    <tr>\n",
       "      <th>1</th>\n",
       "      <td>Male</td>\n",
       "      <td>35</td>\n",
       "      <td>20000</td>\n",
       "      <td>0</td>\n",
       "    </tr>\n",
       "    <tr>\n",
       "      <th>2</th>\n",
       "      <td>Female</td>\n",
       "      <td>26</td>\n",
       "      <td>43000</td>\n",
       "      <td>0</td>\n",
       "    </tr>\n",
       "    <tr>\n",
       "      <th>3</th>\n",
       "      <td>Female</td>\n",
       "      <td>27</td>\n",
       "      <td>57000</td>\n",
       "      <td>0</td>\n",
       "    </tr>\n",
       "    <tr>\n",
       "      <th>4</th>\n",
       "      <td>Male</td>\n",
       "      <td>19</td>\n",
       "      <td>76000</td>\n",
       "      <td>0</td>\n",
       "    </tr>\n",
       "  </tbody>\n",
       "</table>\n",
       "</div>"
      ],
      "text/plain": [
       "   Gender  Age  EstimatedSalary  Purchased\n",
       "0    Male   19            19000          0\n",
       "1    Male   35            20000          0\n",
       "2  Female   26            43000          0\n",
       "3  Female   27            57000          0\n",
       "4    Male   19            76000          0"
      ]
     },
     "execution_count": 7,
     "metadata": {},
     "output_type": "execute_result"
    }
   ],
   "source": [
    "df.head()"
   ]
  },
  {
   "cell_type": "code",
   "execution_count": 8,
   "id": "23d7bd4e-bace-4701-bd4f-997510605256",
   "metadata": {},
   "outputs": [
    {
     "data": {
      "text/html": [
       "<div>\n",
       "<style scoped>\n",
       "    .dataframe tbody tr th:only-of-type {\n",
       "        vertical-align: middle;\n",
       "    }\n",
       "\n",
       "    .dataframe tbody tr th {\n",
       "        vertical-align: top;\n",
       "    }\n",
       "\n",
       "    .dataframe thead th {\n",
       "        text-align: right;\n",
       "    }\n",
       "</style>\n",
       "<table border=\"1\" class=\"dataframe\">\n",
       "  <thead>\n",
       "    <tr style=\"text-align: right;\">\n",
       "      <th></th>\n",
       "      <th>Age</th>\n",
       "      <th>EstimatedSalary</th>\n",
       "    </tr>\n",
       "  </thead>\n",
       "  <tbody>\n",
       "    <tr>\n",
       "      <th>0</th>\n",
       "      <td>19</td>\n",
       "      <td>19000</td>\n",
       "    </tr>\n",
       "    <tr>\n",
       "      <th>1</th>\n",
       "      <td>35</td>\n",
       "      <td>20000</td>\n",
       "    </tr>\n",
       "    <tr>\n",
       "      <th>2</th>\n",
       "      <td>26</td>\n",
       "      <td>43000</td>\n",
       "    </tr>\n",
       "    <tr>\n",
       "      <th>3</th>\n",
       "      <td>27</td>\n",
       "      <td>57000</td>\n",
       "    </tr>\n",
       "    <tr>\n",
       "      <th>4</th>\n",
       "      <td>19</td>\n",
       "      <td>76000</td>\n",
       "    </tr>\n",
       "  </tbody>\n",
       "</table>\n",
       "</div>"
      ],
      "text/plain": [
       "   Age  EstimatedSalary\n",
       "0   19            19000\n",
       "1   35            20000\n",
       "2   26            43000\n",
       "3   27            57000\n",
       "4   19            76000"
      ]
     },
     "execution_count": 8,
     "metadata": {},
     "output_type": "execute_result"
    }
   ],
   "source": [
    "X = df.drop(columns = [\"Purchased\", 'Gender'])\n",
    "X.head()"
   ]
  },
  {
   "cell_type": "code",
   "execution_count": 9,
   "id": "939883ee-056a-4180-9832-d1c0ba5fd4ed",
   "metadata": {},
   "outputs": [
    {
     "data": {
      "text/plain": [
       "0      0\n",
       "1      0\n",
       "2      0\n",
       "3      0\n",
       "4      0\n",
       "      ..\n",
       "395    1\n",
       "396    1\n",
       "397    1\n",
       "398    0\n",
       "399    1\n",
       "Name: Purchased, Length: 400, dtype: int64"
      ]
     },
     "execution_count": 9,
     "metadata": {},
     "output_type": "execute_result"
    }
   ],
   "source": [
    "y = df['Purchased']\n",
    "y"
   ]
  },
  {
   "cell_type": "code",
   "execution_count": 10,
   "id": "f75cf503-88ad-4f14-937a-38a4cbb80140",
   "metadata": {},
   "outputs": [],
   "source": [
    "import numpy as np\n",
    "from sklearn.model_selection import train_test_split\n",
    "\n",
    "X_train, X_test, y_train, y_test = train_test_split(X, y, test_size=0.33, random_state=42)"
   ]
  },
  {
   "cell_type": "code",
   "execution_count": 11,
   "id": "0e583739-b52a-4602-aecd-fd155249cadc",
   "metadata": {},
   "outputs": [],
   "source": [
    "from sklearn.preprocessing import StandardScaler\n",
    "scaler =  StandardScaler()"
   ]
  },
  {
   "cell_type": "code",
   "execution_count": 12,
   "id": "9bd759a3-6b10-4875-a48a-acb0029de264",
   "metadata": {},
   "outputs": [],
   "source": [
    "X_train = scaler.fit_transform(X_train)"
   ]
  },
  {
   "cell_type": "code",
   "execution_count": 13,
   "id": "a745da51-fcea-447d-b46f-da7f136f7826",
   "metadata": {},
   "outputs": [
    {
     "data": {
      "text/plain": [
       "array([[ 2.0052225 ,  0.72479792],\n",
       "       [-1.22740379, -1.43119212],\n",
       "       [ 0.33993017, -0.33843005],\n",
       "       [-0.93352867,  0.54759326],\n",
       "       [ 0.43788855,  0.28178627],\n",
       "       [ 0.43788855,  1.10874135],\n",
       "       [ 0.82972204,  0.75433203],\n",
       "       [ 0.92768041,  1.2564119 ],\n",
       "       [-0.44373681, -1.25398746],\n",
       "       [-1.81515402, -1.34258979],\n",
       "       [ 1.12359715,  0.54759326],\n",
       "       [-0.63965355, -1.63793089],\n",
       "       [-0.73761192,  0.25225216],\n",
       "       [ 1.02563878,  2.08336699],\n",
       "       [-0.54169518,  1.37454834],\n",
       "       [-0.05190332,  0.01597928],\n",
       "       [-1.91311239,  0.45899093],\n",
       "       [ 0.43788855,  0.25225216],\n",
       "       [-1.03148704,  0.39992271],\n",
       "       [ 0.2419718 , -0.16122538],\n",
       "       [ 1.90726413,  0.10458161],\n",
       "       [-1.12944541, -1.63793089],\n",
       "       [-1.12944541,  0.28178627],\n",
       "       [-0.8355703 , -0.81097581],\n",
       "       [-0.44373681,  2.31963987],\n",
       "       [ 0.14401343, -0.84050992],\n",
       "       [ 1.61338901,  0.99060491],\n",
       "       [-0.14986169, -1.10631691],\n",
       "       [ 0.82972204, -1.13585102],\n",
       "       [ 0.2419718 ,  2.1129011 ],\n",
       "       [-0.05190332, -0.24982772],\n",
       "       [-0.8355703 ,  2.29010576],\n",
       "       [-0.05190332, -0.39749827],\n",
       "       [-0.24782006, -0.60423704],\n",
       "       [ 0.43788855, -0.51563471],\n",
       "       [-0.24782006, -0.95864636],\n",
       "       [ 0.33993017, -1.19491924],\n",
       "       [ 0.2419718 ,  0.04551339],\n",
       "       [-1.12944541, -1.63793089],\n",
       "       [-0.63965355, -0.07262305],\n",
       "       [-0.24782006, -0.51563471],\n",
       "       [-0.24782006, -1.34258979],\n",
       "       [-0.73761192,  0.54759326],\n",
       "       [ 0.33993017,  0.04551339],\n",
       "       [-0.93352867,  1.551753  ],\n",
       "       [ 0.82972204,  0.34085449],\n",
       "       [-1.5212789 , -0.22029361],\n",
       "       [ 0.73176366, -1.43119212],\n",
       "       [-0.73761192, -0.63377115],\n",
       "       [-0.34577843, -1.34258979],\n",
       "       [ 0.2419718 ,  0.13411572],\n",
       "       [-0.54169518,  1.37454834],\n",
       "       [-1.42332053,  0.34085449],\n",
       "       [-1.12944541,  0.28178627],\n",
       "       [ 1.02563878,  1.78802589],\n",
       "       [ 2.10318088,  2.14243521],\n",
       "       [-0.24782006, -0.45656649],\n",
       "       [-0.34577843, -0.81097581],\n",
       "       [ 0.14401343, -0.27936183],\n",
       "       [-1.03148704,  0.75433203],\n",
       "       [ 2.20113925,  0.3703886 ],\n",
       "       [-1.32536216, -0.45656649],\n",
       "       [ 2.0052225 ,  2.17196932],\n",
       "       [ 1.51543064,  0.99060491],\n",
       "       [-0.24782006,  0.25225216],\n",
       "       [-0.14986169,  0.84293436],\n",
       "       [ 1.90726413, -0.30889594],\n",
       "       [-0.05190332,  1.96523055],\n",
       "       [-0.44373681, -0.81097581],\n",
       "       [ 0.33993017,  0.01597928],\n",
       "       [ 1.41747227, -1.46072623],\n",
       "       [ 1.41747227,  2.34917398],\n",
       "       [-0.05190332, -0.01355483],\n",
       "       [-1.12944541,  0.39992271],\n",
       "       [-1.12944541,  0.04551339],\n",
       "       [-1.12944541, -0.54516882],\n",
       "       [ 0.33993017, -0.30889594],\n",
       "       [-0.63965355, -0.13169127],\n",
       "       [-0.05190332,  2.17196932],\n",
       "       [ 0.04605506, -0.27936183],\n",
       "       [-0.63965355, -1.0767828 ],\n",
       "       [ 0.43788855,  0.13411572],\n",
       "       [ 0.82972204,  1.37454834],\n",
       "       [-0.14986169, -0.54516882],\n",
       "       [ 0.04605506,  0.01597928],\n",
       "       [ 1.12359715,  0.51805915],\n",
       "       [ 1.90726413, -1.10631691],\n",
       "       [ 1.02563878,  1.99476466],\n",
       "       [ 0.92768041, -0.60423704],\n",
       "       [-0.44373681, -0.04308894],\n",
       "       [-0.05190332,  2.23103754],\n",
       "       [-1.71719565,  0.34085449],\n",
       "       [ 0.2419718 , -0.69283937],\n",
       "       [-0.24782006, -1.43119212],\n",
       "       [-1.71719565, -1.01771458],\n",
       "       [ 0.73176366, -0.75190759],\n",
       "       [-1.12944541, -0.81097581],\n",
       "       [ 2.0052225 ,  0.90200258],\n",
       "       [ 0.2419718 , -0.39749827],\n",
       "       [ 0.04605506,  1.22687779],\n",
       "       [-0.05190332,  0.28178627],\n",
       "       [ 1.12359715, -1.25398746],\n",
       "       [-0.14986169,  0.13411572],\n",
       "       [ 0.33993017,  0.04551339],\n",
       "       [-0.24782006, -0.30889594],\n",
       "       [ 0.53584692,  1.72895767],\n",
       "       [ 0.33993017,  0.48852504],\n",
       "       [ 0.04605506,  1.2564119 ],\n",
       "       [ 2.0052225 , -1.40165801],\n",
       "       [-1.12944541, -1.13585102],\n",
       "       [-0.54169518, -1.54932856],\n",
       "       [ 0.33993017, -0.54516882],\n",
       "       [-0.63965355, -1.54932856],\n",
       "       [-0.24782006,  0.51805915],\n",
       "       [ 1.02563878, -1.04724869],\n",
       "       [-1.03148704,  0.54759326],\n",
       "       [-0.24782006,  0.78386614],\n",
       "       [ 0.43788855,  0.0750475 ],\n",
       "       [-1.61923728, -0.07262305],\n",
       "       [ 0.33993017,  0.04551339],\n",
       "       [-0.44373681, -0.30889594],\n",
       "       [ 0.14401343,  1.87662822],\n",
       "       [-0.93352867,  0.39992271],\n",
       "       [ 0.82972204,  0.51805915],\n",
       "       [-1.32536216, -0.36796416],\n",
       "       [-0.63965355,  1.40408245],\n",
       "       [ 1.22155552,  0.51805915],\n",
       "       [-1.71719565,  0.34085449],\n",
       "       [-0.54169518,  1.90616233],\n",
       "       [-1.71719565,  0.45899093],\n",
       "       [-0.24782006, -1.28352157],\n",
       "       [-0.8355703 , -0.81097581],\n",
       "       [-1.61923728,  0.51805915],\n",
       "       [-0.24782006, -0.33843005],\n",
       "       [ 0.73176366, -1.13585102],\n",
       "       [ 2.20113925, -0.84050992],\n",
       "       [-0.24782006,  0.60666148],\n",
       "       [-0.24782006, -0.7814417 ],\n",
       "       [-1.91311239, -0.7814417 ],\n",
       "       [ 0.43788855,  2.31963987],\n",
       "       [ 0.73176366,  0.25225216],\n",
       "       [ 0.2419718 , -0.30889594],\n",
       "       [-1.32536216, -1.40165801],\n",
       "       [-0.44373681, -0.57470293],\n",
       "       [ 0.43788855, -0.01355483],\n",
       "       [ 1.71134739,  1.75849178],\n",
       "       [ 1.22155552, -0.7814417 ],\n",
       "       [ 1.02563878,  1.43361656],\n",
       "       [-1.81515402,  0.16364983],\n",
       "       [ 0.33993017,  0.04551339],\n",
       "       [ 0.2419718 ,  0.01597928],\n",
       "       [-1.03148704,  0.51805915],\n",
       "       [-0.14986169,  1.64035534],\n",
       "       [-0.24782006,  0.13411572],\n",
       "       [-0.24782006, -0.36796416],\n",
       "       [-0.34577843,  1.31548012],\n",
       "       [-0.24782006,  0.0750475 ],\n",
       "       [ 2.20113925,  1.10874135],\n",
       "       [-1.22740379,  0.48852504],\n",
       "       [-1.03148704, -0.4861006 ],\n",
       "       [-1.61923728, -1.60839678],\n",
       "       [-0.05190332,  0.10458161],\n",
       "       [-0.24782006, -0.92911225],\n",
       "       [ 1.61338901, -0.01355483],\n",
       "       [ 0.92768041, -1.19491924],\n",
       "       [ 0.04605506, -0.60423704],\n",
       "       [-0.24782006,  2.26057165],\n",
       "       [-0.24782006,  0.19318394],\n",
       "       [ 0.33993017,  0.25225216],\n",
       "       [-0.05190332, -1.10631691],\n",
       "       [ 2.20113925, -0.72237348],\n",
       "       [-0.93352867, -0.33843005],\n",
       "       [-1.42332053, -0.13169127],\n",
       "       [-1.42332053, -0.22029361],\n",
       "       [-0.73761192, -1.57886267],\n",
       "       [-1.22740379, -1.10631691],\n",
       "       [ 2.10318088,  0.3703886 ],\n",
       "       [ 2.0052225 , -0.95864636],\n",
       "       [-1.91311239,  0.34085449],\n",
       "       [ 0.82972204, -0.33843005],\n",
       "       [-1.03148704, -1.57886267],\n",
       "       [ 2.0052225 , -0.69283937],\n",
       "       [ 1.02563878, -1.19491924],\n",
       "       [ 1.12359715, -0.16122538],\n",
       "       [ 1.22155552, -1.01771458],\n",
       "       [ 1.51543064,  0.04551339],\n",
       "       [ 0.2419718 , -0.39749827],\n",
       "       [ 1.41747227,  1.28594601],\n",
       "       [ 2.10318088, -0.84050992],\n",
       "       [-0.14986169, -0.22029361],\n",
       "       [ 0.43788855,  0.99060491],\n",
       "       [-0.05190332, -0.54516882],\n",
       "       [ 1.02563878, -1.10631691],\n",
       "       [ 2.10318088, -1.22445335],\n",
       "       [-0.05190332,  0.25225216],\n",
       "       [ 0.2419718 , -0.27936183],\n",
       "       [ 1.12359715,  0.10458161],\n",
       "       [-1.22740379,  0.57712737],\n",
       "       [-0.73761192, -1.63793089],\n",
       "       [ 0.2419718 ,  0.22271805],\n",
       "       [-1.32536216,  0.39992271],\n",
       "       [ 0.04605506, -0.60423704],\n",
       "       [ 0.73176366,  1.78802589],\n",
       "       [-1.61923728,  0.04551339],\n",
       "       [-0.24782006, -1.40165801],\n",
       "       [-0.24782006, -1.49026034],\n",
       "       [-0.63965355,  0.54759326],\n",
       "       [-0.73761192,  0.28178627],\n",
       "       [ 0.92768041, -0.69283937],\n",
       "       [-1.03148704,  0.57712737],\n",
       "       [-0.24782006,  0.04551339],\n",
       "       [-0.73761192,  1.34501423],\n",
       "       [ 0.14401343,  1.52221889],\n",
       "       [-0.8355703 ,  0.3703886 ],\n",
       "       [ 0.33993017, -0.22029361],\n",
       "       [ 1.02563878,  0.57712737],\n",
       "       [ 0.04605506, -0.33843005],\n",
       "       [-0.54169518, -1.54932856],\n",
       "       [ 0.14401343,  0.13411572],\n",
       "       [-1.12944541,  0.31132038],\n",
       "       [ 0.14401343,  1.04967313],\n",
       "       [-1.5212789 , -0.45656649],\n",
       "       [-0.14986169,  1.40408245],\n",
       "       [ 2.20113925, -0.84050992],\n",
       "       [-0.93352867, -0.45656649],\n",
       "       [ 1.3195139 ,  1.87662822],\n",
       "       [ 1.12359715, -1.25398746],\n",
       "       [-0.14986169, -0.30889594],\n",
       "       [ 1.80930576,  0.99060491],\n",
       "       [-1.03148704, -0.36796416],\n",
       "       [-1.32536216, -1.13585102],\n",
       "       [-0.34577843,  0.04551339],\n",
       "       [-0.93352867, -1.13585102],\n",
       "       [ 1.22155552, -1.49026034],\n",
       "       [-0.44373681, -0.87004403],\n",
       "       [-0.8355703 , -0.69283937],\n",
       "       [-1.5212789 , -1.54932856],\n",
       "       [-0.73761192,  1.90616233],\n",
       "       [ 0.92768041,  1.02013902],\n",
       "       [ 0.82972204,  0.25225216],\n",
       "       [ 1.02563878,  1.87662822],\n",
       "       [ 0.92768041, -0.63377115],\n",
       "       [ 1.12359715,  2.08336699],\n",
       "       [-0.54169518,  0.87246847],\n",
       "       [ 0.04605506,  0.01597928],\n",
       "       [-1.81515402, -1.31305568],\n",
       "       [-0.05190332,  0.19318394],\n",
       "       [ 0.92768041, -0.57470293],\n",
       "       [ 0.2419718 , -0.39749827],\n",
       "       [-0.14986169,  1.61082123],\n",
       "       [-1.71719565,  0.10458161],\n",
       "       [-0.63965355, -0.36796416],\n",
       "       [ 0.33993017, -0.75190759],\n",
       "       [ 0.43788855, -0.4861006 ],\n",
       "       [-0.93352867, -0.98818047],\n",
       "       [ 0.14401343,  0.0750475 ],\n",
       "       [-0.93352867,  0.42945682],\n",
       "       [ 0.04605506, -0.57470293],\n",
       "       [ 0.92768041, -0.81097581],\n",
       "       [-0.05190332,  0.04551339],\n",
       "       [ 1.12359715, -1.01771458],\n",
       "       [ 0.73176366, -1.43119212],\n",
       "       [-0.24782006,  0.04551339],\n",
       "       [-1.32536216, -1.28352157],\n",
       "       [-1.12944541, -1.04724869],\n",
       "       [ 0.53584692,  1.84709411],\n",
       "       [ 0.14401343,  0.19318394],\n",
       "       [-0.54169518,  0.45899093]])"
      ]
     },
     "execution_count": 13,
     "metadata": {},
     "output_type": "execute_result"
    }
   ],
   "source": [
    "X_train"
   ]
  },
  {
   "cell_type": "code",
   "execution_count": 14,
   "id": "7b78aa4c-170f-47e8-8a83-c018a3bed3a9",
   "metadata": {},
   "outputs": [],
   "source": [
    "X_test = scaler.transform(X_test)"
   ]
  },
  {
   "cell_type": "code",
   "execution_count": null,
   "id": "f3739f97-01a0-437c-9aea-754fce013f6b",
   "metadata": {},
   "outputs": [],
   "source": []
  },
  {
   "cell_type": "code",
   "execution_count": null,
   "id": "77d8b60d-fd91-4802-8fdd-8c45d2078f5f",
   "metadata": {},
   "outputs": [],
   "source": []
  },
  {
   "cell_type": "code",
   "execution_count": 15,
   "id": "0326e9c7-d412-4620-a5a1-c23a642d80cd",
   "metadata": {},
   "outputs": [],
   "source": [
    "from sklearn.linear_model import LogisticRegression"
   ]
  },
  {
   "cell_type": "code",
   "execution_count": 16,
   "id": "cd050197-ce19-42c2-9fb9-4b0402580a65",
   "metadata": {},
   "outputs": [],
   "source": [
    "logisticRegr = LogisticRegression()"
   ]
  },
  {
   "cell_type": "code",
   "execution_count": 17,
   "id": "54f1b880-98cb-4d84-b683-2a5e256b1abd",
   "metadata": {},
   "outputs": [
    {
     "data": {
      "text/html": [
       "<style>#sk-container-id-1 {color: black;}#sk-container-id-1 pre{padding: 0;}#sk-container-id-1 div.sk-toggleable {background-color: white;}#sk-container-id-1 label.sk-toggleable__label {cursor: pointer;display: block;width: 100%;margin-bottom: 0;padding: 0.3em;box-sizing: border-box;text-align: center;}#sk-container-id-1 label.sk-toggleable__label-arrow:before {content: \"▸\";float: left;margin-right: 0.25em;color: #696969;}#sk-container-id-1 label.sk-toggleable__label-arrow:hover:before {color: black;}#sk-container-id-1 div.sk-estimator:hover label.sk-toggleable__label-arrow:before {color: black;}#sk-container-id-1 div.sk-toggleable__content {max-height: 0;max-width: 0;overflow: hidden;text-align: left;background-color: #f0f8ff;}#sk-container-id-1 div.sk-toggleable__content pre {margin: 0.2em;color: black;border-radius: 0.25em;background-color: #f0f8ff;}#sk-container-id-1 input.sk-toggleable__control:checked~div.sk-toggleable__content {max-height: 200px;max-width: 100%;overflow: auto;}#sk-container-id-1 input.sk-toggleable__control:checked~label.sk-toggleable__label-arrow:before {content: \"▾\";}#sk-container-id-1 div.sk-estimator input.sk-toggleable__control:checked~label.sk-toggleable__label {background-color: #d4ebff;}#sk-container-id-1 div.sk-label input.sk-toggleable__control:checked~label.sk-toggleable__label {background-color: #d4ebff;}#sk-container-id-1 input.sk-hidden--visually {border: 0;clip: rect(1px 1px 1px 1px);clip: rect(1px, 1px, 1px, 1px);height: 1px;margin: -1px;overflow: hidden;padding: 0;position: absolute;width: 1px;}#sk-container-id-1 div.sk-estimator {font-family: monospace;background-color: #f0f8ff;border: 1px dotted black;border-radius: 0.25em;box-sizing: border-box;margin-bottom: 0.5em;}#sk-container-id-1 div.sk-estimator:hover {background-color: #d4ebff;}#sk-container-id-1 div.sk-parallel-item::after {content: \"\";width: 100%;border-bottom: 1px solid gray;flex-grow: 1;}#sk-container-id-1 div.sk-label:hover label.sk-toggleable__label {background-color: #d4ebff;}#sk-container-id-1 div.sk-serial::before {content: \"\";position: absolute;border-left: 1px solid gray;box-sizing: border-box;top: 0;bottom: 0;left: 50%;z-index: 0;}#sk-container-id-1 div.sk-serial {display: flex;flex-direction: column;align-items: center;background-color: white;padding-right: 0.2em;padding-left: 0.2em;position: relative;}#sk-container-id-1 div.sk-item {position: relative;z-index: 1;}#sk-container-id-1 div.sk-parallel {display: flex;align-items: stretch;justify-content: center;background-color: white;position: relative;}#sk-container-id-1 div.sk-item::before, #sk-container-id-1 div.sk-parallel-item::before {content: \"\";position: absolute;border-left: 1px solid gray;box-sizing: border-box;top: 0;bottom: 0;left: 50%;z-index: -1;}#sk-container-id-1 div.sk-parallel-item {display: flex;flex-direction: column;z-index: 1;position: relative;background-color: white;}#sk-container-id-1 div.sk-parallel-item:first-child::after {align-self: flex-end;width: 50%;}#sk-container-id-1 div.sk-parallel-item:last-child::after {align-self: flex-start;width: 50%;}#sk-container-id-1 div.sk-parallel-item:only-child::after {width: 0;}#sk-container-id-1 div.sk-dashed-wrapped {border: 1px dashed gray;margin: 0 0.4em 0.5em 0.4em;box-sizing: border-box;padding-bottom: 0.4em;background-color: white;}#sk-container-id-1 div.sk-label label {font-family: monospace;font-weight: bold;display: inline-block;line-height: 1.2em;}#sk-container-id-1 div.sk-label-container {text-align: center;}#sk-container-id-1 div.sk-container {/* jupyter's `normalize.less` sets `[hidden] { display: none; }` but bootstrap.min.css set `[hidden] { display: none !important; }` so we also need the `!important` here to be able to override the default hidden behavior on the sphinx rendered scikit-learn.org. See: https://github.com/scikit-learn/scikit-learn/issues/21755 */display: inline-block !important;position: relative;}#sk-container-id-1 div.sk-text-repr-fallback {display: none;}</style><div id=\"sk-container-id-1\" class=\"sk-top-container\"><div class=\"sk-text-repr-fallback\"><pre>LogisticRegression()</pre><b>In a Jupyter environment, please rerun this cell to show the HTML representation or trust the notebook. <br />On GitHub, the HTML representation is unable to render, please try loading this page with nbviewer.org.</b></div><div class=\"sk-container\" hidden><div class=\"sk-item\"><div class=\"sk-estimator sk-toggleable\"><input class=\"sk-toggleable__control sk-hidden--visually\" id=\"sk-estimator-id-1\" type=\"checkbox\" checked><label for=\"sk-estimator-id-1\" class=\"sk-toggleable__label sk-toggleable__label-arrow\">LogisticRegression</label><div class=\"sk-toggleable__content\"><pre>LogisticRegression()</pre></div></div></div></div></div>"
      ],
      "text/plain": [
       "LogisticRegression()"
      ]
     },
     "execution_count": 17,
     "metadata": {},
     "output_type": "execute_result"
    }
   ],
   "source": [
    "logisticRegr.fit(X_train, y_train)"
   ]
  },
  {
   "cell_type": "code",
   "execution_count": 18,
   "id": "fe4b1e57-a071-4daf-a2cd-0dbee929795e",
   "metadata": {},
   "outputs": [],
   "source": [
    "predictions = logisticRegr.predict(X_test)"
   ]
  },
  {
   "cell_type": "code",
   "execution_count": 19,
   "id": "19d3eaad-83bd-494f-a9f2-ef12a7b398a0",
   "metadata": {},
   "outputs": [
    {
     "data": {
      "text/plain": [
       "0.8409090909090909"
      ]
     },
     "execution_count": 19,
     "metadata": {},
     "output_type": "execute_result"
    }
   ],
   "source": [
    "score = logisticRegr.score(X_test, y_test)\n",
    "score"
   ]
  },
  {
   "cell_type": "code",
   "execution_count": 20,
   "id": "15037221-53f1-4bf0-aeab-c83b7d3048e5",
   "metadata": {},
   "outputs": [],
   "source": [
    "import matplotlib.pyplot as plt\n",
    "import seaborn as sns\n",
    "from sklearn import metrics"
   ]
  },
  {
   "cell_type": "code",
   "execution_count": 21,
   "id": "87adc2a2-ca8f-4b61-b772-93d6ffd30229",
   "metadata": {},
   "outputs": [
    {
     "data": {
      "text/plain": [
       "array([[79,  1],\n",
       "       [20, 32]])"
      ]
     },
     "execution_count": 21,
     "metadata": {},
     "output_type": "execute_result"
    }
   ],
   "source": [
    "cm = metrics.confusion_matrix(y_test, predictions)\n",
    "cm"
   ]
  },
  {
   "cell_type": "code",
   "execution_count": null,
   "id": "6ef9125d-9f63-4026-be63-523505a6e729",
   "metadata": {},
   "outputs": [],
   "source": []
  },
  {
   "cell_type": "code",
   "execution_count": 22,
   "id": "1f3c5d2c-4f5e-498c-941b-b2e7c8c82b7d",
   "metadata": {},
   "outputs": [
    {
     "data": {
      "image/png": "[encoded data removed]",
      "text/plain": [
       "<Figure size 900x900 with 2 Axes>"
      ]
     },
     "metadata": {},
     "output_type": "display_data"
    }
   ],
   "source": [
    "plt.figure(figsize=(9,9))\n",
    "sns.heatmap(cm, annot=True, fmt=\".3f\", linewidths=.5, square = True, cmap = 'Blues_r');\n",
    "plt.ylabel('Actual label');\n",
    "plt.xlabel('Predicted label');\n",
    "all_sample_title = 'Accuracy Score: {0}'.format(score)\n",
    "plt.title(all_sample_title, size = 15);"
   ]
  },
  {
   "cell_type": "code",
   "execution_count": 23,
   "id": "067c2056-89fa-4f2a-9703-37dc1723ba7a",
   "metadata": {},
   "outputs": [
    {
     "data": {
      "text/plain": [
       "0.8409090909090909"
      ]
     },
     "execution_count": 23,
     "metadata": {},
     "output_type": "execute_result"
    }
   ],
   "source": [
    "from sklearn.metrics import precision_score\n",
    "precision_score(y_test, predictions, average='micro')"
   ]
  },
  {
   "cell_type": "code",
   "execution_count": 175,
   "id": "973791da-a4a8-450f-ad34-cae0bfa4e03d",
   "metadata": {},
   "outputs": [
    {
     "data": {
      "text/plain": [
       "0.8409090909090909"
      ]
     },
     "execution_count": 175,
     "metadata": {},
     "output_type": "execute_result"
    }
   ],
   "source": [
    "from sklearn.metrics import recall_score\n",
    "recall_score(y_test, predictions, average='micro')"
   ]
  },
  {
   "cell_type": "code",
   "execution_count": null,
   "id": "61e8ede1-6276-4054-a576-44b8170c16cb",
   "metadata": {},
   "outputs": [],
   "source": []
  }
 ],
 "metadata": {
  "kernelspec": {
   "display_name": "Python 3 (ipykernel)",
   "language": "python",
   "name": "python3"
  },
  "language_info": {
   "codemirror_mode": {
    "name": "ipython",
    "version": 3
   },
   "file_extension": ".py",
   "mimetype": "text/x-python",
   "name": "python",
   "nbconvert_exporter": "python",
   "pygments_lexer": "ipython3",
   "version": "3.11.6"
  }
 },
 "nbformat": 4,
 "nbformat_minor": 5
}
